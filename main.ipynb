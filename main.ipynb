{
  "cells": [
    {
      "attachments": {},
      "cell_type": "markdown",
      "metadata": {
        "id": "XSqGUlbasiCl"
      },
      "source": [
        "This is a DQN Network following along [this PyTorch tutorial](https://pytorch.org/tutorials/intermediate/reinforcement_q_learning.html).\n",
        "One takeaway here is that, a lot of the processes are added as research papes come out stating their effectivity. That answers a lot of the \"why\"s along the material."
      ]
    },
    {
      "attachments": {},
      "cell_type": "markdown",
      "metadata": {
        "id": "cmjS_20xsiCo"
      },
      "source": [
        "# Install requirements (4 Colab)"
      ]
    },
    {
      "cell_type": "code",
      "execution_count": null,
      "metadata": {
        "colab": {
          "base_uri": "https://localhost:8080/"
        },
        "id": "SQcl0Q1YsiCp",
        "outputId": "058f6aad-3093-4dfa-9f08-322af3d1edc5"
      },
      "outputs": [
        {
          "name": "stdout",
          "output_type": "stream",
          "text": [
            "Looking in indexes: https://pypi.org/simple, https://us-python.pkg.dev/colab-wheels/public/simple/\n",
            "Requirement already satisfied: gymnasium in /usr/local/lib/python3.10/dist-packages (0.28.1)\n",
            "Requirement already satisfied: numpy>=1.21.0 in /usr/local/lib/python3.10/dist-packages (from gymnasium) (1.22.4)\n",
            "Requirement already satisfied: jax-jumpy>=1.0.0 in /usr/local/lib/python3.10/dist-packages (from gymnasium) (1.0.0)\n",
            "Requirement already satisfied: cloudpickle>=1.2.0 in /usr/local/lib/python3.10/dist-packages (from gymnasium) (2.2.1)\n",
            "Requirement already satisfied: typing-extensions>=4.3.0 in /usr/local/lib/python3.10/dist-packages (from gymnasium) (4.5.0)\n",
            "Requirement already satisfied: farama-notifications>=0.0.1 in /usr/local/lib/python3.10/dist-packages (from gymnasium) (0.0.4)\n"
          ]
        }
      ],
      "source": [
        "# check if running in colab\n",
        "try:\n",
        "    import google.colab\n",
        "except:\n",
        "    # not in colab\n",
        "    pass\n",
        "else:\n",
        "    %pip install gymnasium"
      ]
    },
    {
      "attachments": {},
      "cell_type": "markdown",
      "metadata": {
        "id": "LE0RLD4RsiCq"
      },
      "source": [
        "# Set-up"
      ]
    },
    {
      "cell_type": "code",
      "execution_count": null,
      "metadata": {
        "id": "ixcG9XyBsiCq"
      },
      "outputs": [],
      "source": [
        "# IMPORTS\n",
        "\n",
        "import gymnasium as gym\n",
        "\n",
        "import math\n",
        "import random\n",
        "from collections import namedtuple, deque\n",
        "from itertools import count\n",
        "\n",
        "import matplotlib\n",
        "import matplotlib.pyplot as plt\n",
        "\n",
        "import torch\n",
        "import torch.nn as nn\n",
        "import torch.optim as optim\n",
        "import torch.nn.functional as F\n",
        "\n",
        "from pprint import pprint\n",
        "\n",
        "env = gym.make(\"CartPole-v1\",)\n",
        "\n",
        "# set up matplotlib\n",
        "is_ipython = 'inline' in matplotlib.get_backend()\n",
        "if is_ipython:\n",
        "    from IPython import display\n",
        "# In interactive mode (enabled with plt.ion()):\n",
        "# - newly created figures will be shown immediately;\n",
        "# - figures will automatically redraw on change;\n",
        "# - `pyplot.show` will not block by default.\n",
        "plt.ion()\n",
        "\n",
        "# import torch_directml\n",
        "# # https://learn.microsoft.com/en-us/windows/ai/directml/gpu-pytorch-windows\n",
        "# device = torch_directml.device()\n",
        "device = torch.device(\"cuda\" if torch.cuda.is_available() else \"cpu\")\n"
      ]
    },
    {
      "attachments": {},
      "cell_type": "markdown",
      "metadata": {
        "id": "qk_0VjgHsiCq"
      },
      "source": [
        "## Replay memory\n",
        "A replay memory is basically a storage of all previous state transitions and their rewards.\n",
        "[resource](https://deeplizard.com/learn/video/Bcuj2fTH4_4)"
      ]
    },
    {
      "cell_type": "code",
      "execution_count": null,
      "metadata": {
        "id": "a_md_bMKsiCr"
      },
      "outputs": [],
      "source": [
        "\n",
        "# Experience memory: https://deeplizard.com/learn/video/Bcuj2fTH4_4\n",
        "# At time t, the agent's experience e_t is defined as this tuple:\n",
        "# e_t = (s_t, a_t, r_{t+1}, s_{t+1})    \n",
        "# which gives us information about its current state, the action taken from state s_t, the reward at\n",
        "# t+1, and the next state in the environment (at t+1). The last one, we won't know of course unless\n",
        "# this experience is in at least 1 timestep in the past. (you can't see the future!)\n",
        "Transition = namedtuple('Transition', ('state', 'action', 'next_state', 'reward'))\n",
        "\n",
        "class ReplayMemory(object):\n",
        "    def __init__(self, capacity):\n",
        "        self.memory = deque([], maxlen=capacity)\n",
        "    \n",
        "    def push(self, *args):\n",
        "        self.memory.append(Transition(*args))\n",
        "\n",
        "    def sample(self, batch_sze):\n",
        "        return random.sample(self.memory, batch_sze)\n",
        "\n",
        "    def __len__(self):\n",
        "        return len(self.memory)"
      ]
    },
    {
      "attachments": {},
      "cell_type": "markdown",
      "metadata": {
        "id": "UXytUzOEsiCr"
      },
      "source": [
        "## The model\n",
        "The interesting thing is that we will be outputting the Q-value for the 2 available actions (move right/left), not necessarily the probability that they're to be chosen. The network is trying to predict the expected return of taking that action."
      ]
    },
    {
      "cell_type": "code",
      "execution_count": null,
      "metadata": {
        "id": "EbpVplk-siCs"
      },
      "outputs": [],
      "source": [
        "class DQN(nn.Module):\n",
        "    def __init__(self, n_observations, n_actions):\n",
        "        super(DQN, self).__init__()\n",
        "        # nn.Linear(in, uot) is like the \"space\" between 2 layers. it takes an input and maps it to neurons out.\n",
        "        # resource https://www.sharetechnote.com/html/Python_PyTorch_nn_Linear_01.html\n",
        "        self.layer1 = nn.Linear(n_observations, 128)\n",
        "        self.layer2 = nn.Linear(128, 128)\n",
        "        self.layer3 = nn.Linear(128, n_actions)\n",
        "    \n",
        "    # x is a singular element: determine next action\n",
        "    # x is a batch (multiple el.): for optimization (diff. word for training)\n",
        "    # returns a tensor\n",
        "    def forward(self, x):\n",
        "        # basically, drive x through the whole network. Throughout this process, x may change its shape\n",
        "        # ReLU(x) = max(0, x), comparable to sigmoid\n",
        "        x = F.relu(self.layer1(x))\n",
        "        x = F.relu(self.layer2(x))\n",
        "        return self.layer3(x)\n",
        "        \n",
        "    "
      ]
    },
    {
      "attachments": {},
      "cell_type": "markdown",
      "metadata": {
        "id": "ULp9cvNLsiCs"
      },
      "source": [
        "# Initializing, utils"
      ]
    },
    {
      "cell_type": "code",
      "execution_count": null,
      "metadata": {
        "id": "K4x5EiSCsiCt"
      },
      "outputs": [],
      "source": [
        "# HYPERPARAMETERS: constants that are set before the machine learning process begins\n",
        "# eps. starting value\n",
        "EPS_START = 0.9\n",
        "# eps. target ending value at end of training\n",
        "EPS_END = 0.05\n",
        "# controls exponential decay of epsilon, higher is slower\n",
        "EPS_DECAY = 1000\n",
        "# learning rate for AdamW\n",
        "LR = 1e-4\n",
        "# n. of transitiosn sampled from ReplayMemory (aka. replay buffer)\n",
        "BATCH_SIZE = 128\n",
        "# discount factor on the Bellman equation\n",
        "GAMMA = 0.99\n",
        "# update reate for target network - lower is slower\n",
        "TAU = 0.005\n",
        "\n",
        "# get size of action space\n",
        "n_actions = env.action_space.n\n",
        "# https://gymnasium.farama.org/environments/classic_control/cart_pole/#observation-space\n",
        "# this will return initial state parameters like pos, vel, etc. will be stochastically initialized\n",
        "state, info = env.reset()\n",
        "# size of state space\n",
        "n_observations = len(state)\n",
        "\n",
        "# why do we have 2 networks? -> https://stackoverflow.com/a/59869307\n",
        "policy_net = DQN(n_observations, n_actions).to(device)\n",
        "target_net = DQN(n_observations, n_actions).to(device)\n",
        "# initialize target NN from policy NN - basically clone it -> https://pytorch.org/tutorials/beginner/saving_loading_models.html \n",
        "target_net.load_state_dict(policy_net.state_dict())\n",
        "\n",
        "# AdamW is also called SGD or Stochastic Gradient Descent, you can look into it here:\n",
        "# https://dev.to/amananandrai/10-famous-machine-learning-optimizers-1e22\n",
        "# with `amsgrad=True`, we're using its variation:\n",
        "# https://www.fast.ai/posts/2018-07-02-adam-weight-decay.html\n",
        "# parameters are the variables we want to change over the training. Conveniently, they all get outputted on\n",
        "# Module().parameters()\n",
        "# a layer like nn.Linear() automatically randomly initializes them.\n",
        "optimizer = optim.AdamW(policy_net.parameters(), lr=LR, amsgrad=True)\n",
        "memory = ReplayMemory(capacity=10000)\n",
        "\n",
        "steps_done = 0\n",
        "\n",
        "def select_action(state):\n",
        "    global steps_done\n",
        "    eps_threshold = EPS_END + (EPS_START - EPS_END) * math.exp(-steps_done/EPS_DECAY)\n",
        "    steps_done += 1\n",
        "    sample = random.random()\n",
        "    if sample > eps_threshold:\n",
        "        with torch.no_grad():\n",
        "            # Tensor.max returns us 2 parameters: 0. highest value, 1. highest value's index\n",
        "            # Tensor.view(1, 1) turns the 1-dimensional into a 2D 1x1 tensor\n",
        "            return policy_net(state).max(1)[1].view(1, 1)\n",
        "    else:\n",
        "        return torch.tensor([[env.action_space.sample()]], device=device, dtype=torch.long)\n",
        "\n",
        "episode_durations = []\n",
        "def plot_durations(show_result=False):\n",
        "    # every time we call plot_durations, we will create a new figure with ID = 1\n",
        "    plt.figure(1)\n",
        "    durations_t = torch.tensor(episode_durations, dtype=torch.float)\n",
        "    if show_result:\n",
        "        plt.title('result')\n",
        "    else:\n",
        "        plt.clf()\n",
        "        plt.title('training...')\n",
        "    plt.xlabel('Episode')\n",
        "    plt.ylabel('Duration')\n",
        "    plt.plot(durations_t.numpy())\n",
        "    if len(durations_t) >= 100:\n",
        "        # takes 100 items from the tensor, get their mean\n",
        "        #.view(-1) means that it should infer the size\n",
        "        means = durations_t.unfold(0, 100, 1).mean(1).view(-1)\n",
        "        means = torch.cat((torch.zeros(99), means))\n",
        "        plt.plot(means.numpy())\n",
        "\n",
        "    plt.pause(0.001)  # pause a bit so that plots are updated\n",
        "    if is_ipython:\n",
        "        if not show_result:\n",
        "            display.display(plt.gcf())\n",
        "            display.clear_output(wait=True)\n",
        "        else:\n",
        "            display.display(plt.gcf())"
      ]
    },
    {
      "attachments": {},
      "cell_type": "markdown",
      "metadata": {
        "id": "2fHWNWQYsiCt"
      },
      "source": [
        "# Optimizing\n",
        "One thing that kind of surprised me is how detached this process is from the actual interaction with the environment. You basically just do it enough to have enough data on the ReplayMemory, then lock yourself away inside Optimization Bunker."
      ]
    },
    {
      "cell_type": "code",
      "execution_count": null,
      "metadata": {
        "id": "93gLrpfFsiCt"
      },
      "outputs": [],
      "source": [
        "\n",
        "def optimize_model():\n",
        "    if len(memory) < BATCH_SIZE:\n",
        "        # don't optimize yet, data population too smol!1\n",
        "        return\n",
        "    transitions = memory.sample(BATCH_SIZE)\n",
        "    # turn [(a1, s1, r1), (a2, s2, r2), (an, sn, rn)] -> [(a1, a2, an), (s1, s2, sn), (r1, r2, rn)]\n",
        "    # and then into Transition((a1, a2, an), (s1, s2, sn), (r1, r2, rn))\n",
        "    batch = Transition(*zip(*transitions))\n",
        "\n",
        "    # Transition(s, a, n_s, r) -> Transition(s, a, n_s, r), [for every action in a, Bool(is action non-final?)], n_s if not final\n",
        "    non_final_mask = torch.tensor(tuple(map(lambda s: s is not None, batch.next_state)), device=device, dtype=torch.bool)\n",
        "    # filter list for non-Nones\n",
        "    non_final_next_states = torch.cat([s for s in batch.next_state if s is not None])\n",
        "\n",
        "    # get one single batch for all states, actions, and rewards\n",
        "    state_batch = torch.cat(batch.state)\n",
        "    action_batch = torch.cat(batch.action)\n",
        "    reward_batch = torch.cat(batch.reward)\n",
        "\n",
        "    # get Q(s_t, a_t)\n",
        "    # torch.gather(): https://stackoverflow.com/a/54706716\n",
        "    # basically we input a bunch of states, select the corresponding actions we took in memory, \n",
        "    # and let the network calculate its expected Q-value for that action-state pair\n",
        "    # this looks like a batch of values\n",
        "    state_action_values = policy_net(state_batch).gather(1, action_batch)\n",
        "    # get Q(s_t+1)\n",
        "    next_state_values = torch.zeros(BATCH_SIZE, device=device)\n",
        "    with torch.no_grad():\n",
        "        # Tensor[Boolean] is a quirky syntax - it'll get/set nothing if False - it's literally masking\n",
        "        ''' \n",
        "        this is like zipping through all the tensors, and if at iteration n, non_final_mask[n] = False, then it will skip\n",
        "        the value in non_final_mark[n]. This means that both can have different sizes, as long as the n. of Trues in the mask = n. of states\n",
        "        in non_final_next_states.\n",
        "        See the example below. We use C to mask B, while A is not the same shape at all:\n",
        "        >>> a = torch.tensor([1, 2, 4])        \n",
        "        >>> b = torch.tensor([5, 6, 7, 8]) \n",
        "        >>> c = torch.tensor([ True,  True, False,  True])\n",
        "        >>> b[c] = a\n",
        "        >>> b\n",
        "        tensor([1, 2, 7, 4])\n",
        "        '''\n",
        "        # we use max(1) because we want to get the largest Q-value from each run of the NN - max([[1, 2], [3, 5]]) -> [2, 5] and NOT overall max 5!!\n",
        "        next_state_values[non_final_mask] = target_net(non_final_next_states).max(1)[0]\n",
        " \n",
        "    '''\n",
        "    This is an attempt to understand DQN with some analogies. Read with caution and suspicion, because they're probably wrong.\n",
        "    So optimizing is like, \n",
        "    \"so, mr. Model, at s_t+1 you predicted this value. then, for s_t, which is now, if you work it backwards, the value\n",
        "    should be that of s_t+1, PLUS the current reward. \"\n",
        "    this suggests that the values become lower over time since we're using GAMMA in such a way that they converge to 0, since there's\n",
        "    less and less reward over the course of time.\n",
        "    the objective of a DQN is to get the most amount of reward, and not to converge to 0 the fastest. That will happen eventually, but it\n",
        "    wants to stretch it as much as possible.\n",
        "    At the moment, my visualization of the Q-values is as a chain that spans over time-steps and the nodes' values decrease as you approach the end.\n",
        "    Then, the rewards are like these arrows poking it on the right direction.\n",
        "    Also since we have a replay memory, that means that you force it to re-take the same actions as before, however,\n",
        "    trying to predict a better maximum Q-value for states following it. It may not want to, but here you are,\n",
        "    forcing it to do that. You are a monster.\n",
        "    '''\n",
        "\n",
        "    expected_state_action_values = (next_state_values * GAMMA) + reward_batch\n",
        "    \n",
        "    # a bit different from Huber loss - https://pytorch.org/docs/stable/generated/torch.nn.SmoothL1Loss.html#torch.nn.SmoothL1Loss\n",
        "    criterion = nn.SmoothL1Loss()\n",
        "    loss = criterion(state_action_values, expected_state_action_values.unsqueeze(1))\n",
        "    # why call zero_grad()? - https://stackoverflow.com/questions/48001598/why-do-we-need-to-call-zero-grad-in-pytorch  \n",
        "    optimizer.zero_grad()\n",
        "    # VERY GOOD explanation on loss.backward() and optimizer.step() - https://discuss.pytorch.org/t/what-does-the-backward-function-do/9944/2\n",
        "    # basically, we do backpropragation so that all neurons will then have a gradient value.\n",
        "    # we then use an optimizer on that gradient\n",
        "    loss.backward()\n",
        "    # we clip gradients to prevent potential exploding gradients - https://stackoverflow.com/a/67237834/15806103\n",
        "    torch.nn.utils.clip_grad_value_(target_net.parameters(), 100)\n",
        "    optimizer.step()"
      ]
    },
    {
      "attachments": {},
      "cell_type": "markdown",
      "metadata": {
        "id": "Sqkn_cjesiCu"
      },
      "source": [
        "# Training loop"
      ]
    },
    {
      "cell_type": "code",
      "execution_count": null,
      "metadata": {
        "colab": {
          "base_uri": "https://localhost:8080/",
          "height": 524
        },
        "id": "q0Mi6i7xsiCu",
        "outputId": "187ee304-9232-478d-b836-895482964914"
      },
      "outputs": [
        {
          "name": "stdout",
          "output_type": "stream",
          "text": [
            "done!\n"
          ]
        },
        {
          "data": {
            "image/png": "[encoded data removed]",
            "text/plain": [
              "<Figure size 640x480 with 1 Axes>"
            ]
          },
          "metadata": {},
          "output_type": "display_data"
        },
        {
          "data": {
            "text/plain": [
              "<Figure size 640x480 with 0 Axes>"
            ]
          },
          "metadata": {},
          "output_type": "display_data"
        },
        {
          "data": {
            "text/plain": [
              "<Figure size 640x480 with 0 Axes>"
            ]
          },
          "metadata": {},
          "output_type": "display_data"
        }
      ],
      "source": [
        "if torch.cuda.is_available():\n",
        "    num_episodes = 600\n",
        "else:\n",
        "    num_episodes = 500\n",
        "\n",
        "for i_episode in range(num_episodes):\n",
        "    state, info = env.reset()\n",
        "    state = torch.tensor(state, dtype=torch.float32, device=device).unsqueeze(0)\n",
        "    # t will literally be the aount of time-steps here, as this loop will only break when we're done\n",
        "    # larger is better\n",
        "    for t in count():\n",
        "        action = select_action(state)\n",
        "        observation, reward, terminated, truncated, _ = env.step(action.item())\n",
        "        reward = torch.tensor([reward], device=device)\n",
        "        # reward *= 1-abs(observation[0]/4.8)\n",
        "        done = terminated or truncated\n",
        "\n",
        "        if terminated:\n",
        "            next_state = None\n",
        "        else:\n",
        "            # even if our state got truncated, this is fine because in next_state_values it'll be equivalent to 0 since it gets masked out\n",
        "            next_state = torch.tensor(observation, dtype=torch.float32, device=device).unsqueeze(0)\n",
        "        \n",
        "        memory.push(state, action, next_state, reward)\n",
        "\n",
        "        state = next_state\n",
        "\n",
        "        optimize_model()\n",
        "\n",
        "        # TODO: learn what is soft update exactly & why\n",
        "        target_net_state_dict = target_net.state_dict()\n",
        "        policy_net_state_dict = policy_net.state_dict()\n",
        "        for key in policy_net_state_dict:\n",
        "            # we don't update target_net into policy_net fully - but rather gradually\n",
        "            target_net_state_dict[key] = policy_net_state_dict[key]*TAU + target_net_state_dict[key]*(1-TAU)\n",
        "        target_net.load_state_dict(target_net_state_dict)\n",
        "            \n",
        "        if (steps_done % 1000) == 0:\n",
        "            pass\n",
        "            # if you want to visualize anything on the NN this is your chance\n",
        "            # if len(memory) > 14:\n",
        "            #     print(memory.sample(15))\n",
        "            \n",
        "        if done:\n",
        "            episode_durations.append(t+1)\n",
        "            plot_durations()\n",
        "            break\n",
        "\n",
        "print('done!')\n",
        "plot_durations(show_result=True)\n",
        "plt.ioff()\n",
        "plt.show()\n",
        "torch.save(target_net_state_dict, 'model-state-dict-'+str(random.randint(100, 999)))"
      ]
    },
    {
      "attachments": {},
      "cell_type": "markdown",
      "metadata": {
        "id": "cSkRu5ImsiCw"
      },
      "source": [
        "# Evaluation"
      ]
    },
    {
      "cell_type": "code",
      "execution_count": null,
      "metadata": {
        "id": "ygzhkjpfsiCw"
      },
      "outputs": [],
      "source": [
        "target_net.load_state_dict(torch.load('model-state-dict'))\n",
        "# https://stackoverflow.com/questions/60018578/what-does-model-eval-do-in-pytorch\n",
        "target_net.eval()\n",
        "with torch.no_grad():\n",
        "    # TODO:\n",
        "    pass"
      ]
    }
  ],
  "metadata": {
    "colab": {
      "provenance": []
    },
    "kernelspec": {
      "display_name": "venv",
      "language": "python",
      "name": "python3"
    },
    "language_info": {
      "codemirror_mode": {
        "name": "ipython",
        "version": 3
      },
      "file_extension": ".py",
      "mimetype": "text/x-python",
      "name": "python",
      "nbconvert_exporter": "python",
      "pygments_lexer": "ipython3",
      "version": "3.11.3"
    },
    "orig_nbformat": 4
  },
  "nbformat": 4,
  "nbformat_minor": 0
}
